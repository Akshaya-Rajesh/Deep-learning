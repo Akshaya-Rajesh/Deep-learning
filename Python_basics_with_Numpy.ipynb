{
  "nbformat": 4,
  "nbformat_minor": 0,
  "metadata": {
    "colab": {
      "name": "Python basics with Numpy.ipynb",
      "provenance": [],
      "authorship_tag": "ABX9TyN7/23Gl+H+RmyAinI9yZJY",
      "include_colab_link": true
    },
    "kernelspec": {
      "name": "python3",
      "display_name": "Python 3"
    }
  },
  "cells": [
    {
      "cell_type": "markdown",
      "metadata": {
        "id": "view-in-github",
        "colab_type": "text"
      },
      "source": [
        "<a href=\"https://colab.research.google.com/github/Akshaya-Rajesh/Deep-learning/blob/master/Python_basics_with_Numpy.ipynb\" target=\"_parent\"><img src=\"https://colab.research.google.com/assets/colab-badge.svg\" alt=\"Open In Colab\"/></a>"
      ]
    },
    {
      "cell_type": "markdown",
      "metadata": {
        "id": "1CYdnsRySsZH",
        "colab_type": "text"
      },
      "source": [
        "# Python basics with Numpy\n",
        "\n",
        "Numpy is the main package for scientific computing in Python. It is maintained by a large community (www.numpy.org). \n",
        "Here we are discussing about several key numpy functions such as np.exp, np.log, and np.reshape."
      ]
    },
    {
      "cell_type": "code",
      "metadata": {
        "id": "wnE1ZqjhSlxz",
        "colab_type": "code",
        "colab": {
          "base_uri": "https://localhost:8080/",
          "height": 34
        },
        "outputId": "3e287f21-d354-43b7-fa50-0a68bd6acfab"
      },
      "source": [
        "# Basic sigmoid function\n",
        "\n",
        "import math\n",
        "\n",
        "\n",
        "def basic_sigmoid(x):\n",
        "  s = 1/(1+math.exp(-x))\n",
        "  return s\n",
        "\n",
        "print(\"basic_sigmoid(3) = \"+ str(basic_sigmoid(3)))"
      ],
      "execution_count": 10,
      "outputs": [
        {
          "output_type": "stream",
          "text": [
            "basic_sigmoid(3) = 0.9525741268224334\n"
          ],
          "name": "stdout"
        }
      ]
    },
    {
      "cell_type": "code",
      "metadata": {
        "id": "ljpBzGSPqK9Y",
        "colab_type": "code",
        "colab": {
          "base_uri": "https://localhost:8080/",
          "height": 34
        },
        "outputId": "1f85ee99-0232-4fe6-c532-c624b25b13d1"
      },
      "source": [
        "# sigmoid function\n",
        "import numpy as np\n",
        "\n",
        "def sigmoid(x):\n",
        "  s = 1/(1+np.exp(-x))\n",
        "  return s\n",
        "\n",
        "x = np.array([1,2,3])\n",
        "print(\"sigmoid(x) = \"+ str(sigmoid(x)))\n"
      ],
      "execution_count": 11,
      "outputs": [
        {
          "output_type": "stream",
          "text": [
            "sigmoid(x) = [0.73105858 0.88079708 0.95257413]\n"
          ],
          "name": "stdout"
        }
      ]
    },
    {
      "cell_type": "code",
      "metadata": {
        "id": "R_Yye_cvrJQd",
        "colab_type": "code",
        "colab": {
          "base_uri": "https://localhost:8080/",
          "height": 34
        },
        "outputId": "c6661da2-4f57-4184-88b6-069400200034"
      },
      "source": [
        "# sigmoid gradient \n",
        "\n",
        "def sigmoid_derivative(x):\n",
        "  s=sigmoid(x)\n",
        "  ds = s*(1-s)\n",
        "  return ds\n",
        "\n",
        "x = np.array([1,2,3])\n",
        "print(\"sigmoid_derivative(x) = \"+str(sigmoid_derivative(x)))"
      ],
      "execution_count": 13,
      "outputs": [
        {
          "output_type": "stream",
          "text": [
            "sigmoid_derivative(x) = [0.19661193 0.10499359 0.04517666]\n"
          ],
          "name": "stdout"
        }
      ]
    },
    {
      "cell_type": "code",
      "metadata": {
        "id": "7K0xVT69uPa3",
        "colab_type": "code",
        "colab": {
          "base_uri": "https://localhost:8080/",
          "height": 336
        },
        "outputId": "2a30dc11-7d6b-4a1c-f9be-1e143f0fb380"
      },
      "source": [
        "# reshaping arrays\n",
        "# Implement image2vector() that takes an input of shape (length, height, 3) and returns a vector of shape (length*height*3, 1).\n",
        "\n",
        "def image2vector(image):\n",
        "  v = image.reshape((image.shape[0]*image.shape[1]*image.shape[2],1))\n",
        "  return v\n",
        "\n",
        "image = np.array([[[ 0.67826139,  0.29380381],\n",
        "        [ 0.90714982,  0.52835647],\n",
        "        [ 0.4215251 ,  0.45017551]],\n",
        "\n",
        "       [[ 0.92814219,  0.96677647],\n",
        "        [ 0.85304703,  0.52351845],\n",
        "        [ 0.19981397,  0.27417313]],\n",
        "\n",
        "       [[ 0.60659855,  0.00533165],\n",
        "        [ 0.10820313,  0.49978937],\n",
        "        [ 0.34144279,  0.94630077]]])\n",
        "\n",
        "print (\"image2vector(image) = \" + str(image2vector(image)))"
      ],
      "execution_count": 16,
      "outputs": [
        {
          "output_type": "stream",
          "text": [
            "image2vector(image) = [[0.67826139]\n",
            " [0.29380381]\n",
            " [0.90714982]\n",
            " [0.52835647]\n",
            " [0.4215251 ]\n",
            " [0.45017551]\n",
            " [0.92814219]\n",
            " [0.96677647]\n",
            " [0.85304703]\n",
            " [0.52351845]\n",
            " [0.19981397]\n",
            " [0.27417313]\n",
            " [0.60659855]\n",
            " [0.00533165]\n",
            " [0.10820313]\n",
            " [0.49978937]\n",
            " [0.34144279]\n",
            " [0.94630077]]\n"
          ],
          "name": "stdout"
        }
      ]
    },
    {
      "cell_type": "code",
      "metadata": {
        "id": "OsomW7Ufw_au",
        "colab_type": "code",
        "colab": {
          "base_uri": "https://localhost:8080/",
          "height": 52
        },
        "outputId": "92b30c71-cd13-41ff-972b-44a0bee11774"
      },
      "source": [
        "# Normalizing rows\n",
        "\n",
        "def normalize_rows(x):\n",
        "  # Compute x_norm as the norm 2 of x. Use np.linalg.norm(..., ord = 2, axis = ..., keepdims = True)\n",
        "  x_norm = np.linalg.norm(x,axis=1,keepdims=True)\n",
        "\n",
        "  # Divide x by it's norm\n",
        "  x = x/x_norm\n",
        "\n",
        "  return x\n",
        "\n",
        "x = np.array([\n",
        "    [0, 3, 4],\n",
        "    [1, 6, 4]])\n",
        "print(\"normalize_rows(x) = \" + str(normalize_rows(x)))"
      ],
      "execution_count": 20,
      "outputs": [
        {
          "output_type": "stream",
          "text": [
            "normalize_rows(x) = [[0.         0.6        0.8       ]\n",
            " [0.13736056 0.82416338 0.54944226]]\n"
          ],
          "name": "stdout"
        }
      ]
    },
    {
      "cell_type": "code",
      "metadata": {
        "id": "gi9Y36lFzXm1",
        "colab_type": "code",
        "colab": {
          "base_uri": "https://localhost:8080/",
          "height": 87
        },
        "outputId": "ad4025e3-bafd-40d5-b9e8-d9adcba5a83a"
      },
      "source": [
        "# Broadcasting and softmax function\n",
        "\n",
        "#softmax\n",
        "def softmax(x):\n",
        "  # Apply exp() element-wise to x. Use np.exp(...).\n",
        "  x_exp = np.exp(x)\n",
        "\n",
        "  # Create a vector x_sum that sums each row of x_exp. Use np.sum(..., axis = 1, keepdims = True)\n",
        "  x_sum = np.sum(x_exp, axis=1,keepdims = True)\n",
        " \n",
        "  # Compute softmax(x) by dividing x_exp by x_sum. It should automatically use numpy broadcasting.\n",
        "  s = x_exp/x_sum\n",
        "\n",
        "  return s\n",
        "\n",
        "x = np.array([\n",
        "    [9, 2, 5, 0, 0],\n",
        "    [7, 5, 0, 0 ,0]])\n",
        "print(\"softmax(x) = \" + str(softmax(x)))"
      ],
      "execution_count": 23,
      "outputs": [
        {
          "output_type": "stream",
          "text": [
            "softmax(x) = [[9.80897665e-01 8.94462891e-04 1.79657674e-02 1.21052389e-04\n",
            "  1.21052389e-04]\n",
            " [8.78679856e-01 1.18916387e-01 8.01252314e-04 8.01252314e-04\n",
            "  8.01252314e-04]]\n"
          ],
          "name": "stdout"
        }
      ]
    },
    {
      "cell_type": "code",
      "metadata": {
        "id": "DEnFzw5i2Ei3",
        "colab_type": "code",
        "colab": {
          "base_uri": "https://localhost:8080/",
          "height": 34
        },
        "outputId": "e604e6d4-df12-40f3-fad6-0e0c38c0f1a6"
      },
      "source": [
        "# Vectorization\n",
        "# L1 Loss function\n",
        "\n",
        "def L1(yhat,y):\n",
        "  loss = np.sum(np.abs(yhat-y))\n",
        "  return loss\n",
        "\n",
        "yhat = np.array([.9, 0.2, 0.1, .4, .9])\n",
        "y = np.array([1, 0, 0, 1, 1])\n",
        "print(\"L1 = \" + str(L1(yhat,y)))"
      ],
      "execution_count": 26,
      "outputs": [
        {
          "output_type": "stream",
          "text": [
            "L1 = 1.1\n"
          ],
          "name": "stdout"
        }
      ]
    },
    {
      "cell_type": "code",
      "metadata": {
        "id": "oXxYLatp5fMx",
        "colab_type": "code",
        "colab": {
          "base_uri": "https://localhost:8080/",
          "height": 34
        },
        "outputId": "24dab664-6333-46bf-9717-b070e0f68950"
      },
      "source": [
        "# L2 Loss function\n",
        "\n",
        "def L2(yhat,y):\n",
        "  loss = np.sum((y-yhat)**2)\n",
        "  return loss\n",
        "\n",
        "yhat = np.array([.9, 0.2, 0.1, .4, .9])\n",
        "y = np.array([1, 0, 0, 1, 1])\n",
        "print(\"L2 = \" + str(L2(yhat,y)))"
      ],
      "execution_count": 27,
      "outputs": [
        {
          "output_type": "stream",
          "text": [
            "L2 = 0.43\n"
          ],
          "name": "stdout"
        }
      ]
    }
  ]
}