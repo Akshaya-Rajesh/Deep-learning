{
  "nbformat": 4,
  "nbformat_minor": 0,
  "metadata": {
    "colab": {
      "name": "Vectorization.ipynb",
      "provenance": [],
      "collapsed_sections": [],
      "include_colab_link": true
    },
    "kernelspec": {
      "name": "python3",
      "display_name": "Python 3"
    }
  },
  "cells": [
    {
      "cell_type": "markdown",
      "metadata": {
        "id": "view-in-github",
        "colab_type": "text"
      },
      "source": [
        "<a href=\"https://colab.research.google.com/github/Akshaya-Rajesh/deeplearning.ai/blob/master/Vectorization.ipynb\" target=\"_parent\"><img src=\"https://colab.research.google.com/assets/colab-badge.svg\" alt=\"Open In Colab\"/></a>"
      ]
    },
    {
      "cell_type": "code",
      "metadata": {
        "id": "cKpmR5ttu6hu",
        "colab_type": "code",
        "colab": {
          "base_uri": "https://localhost:8080/",
          "height": 34
        },
        "outputId": "dca6909a-a6ba-4818-873c-4ac6502692e1"
      },
      "source": [
        "import numpy as np\n",
        "\n",
        "a=np.array([1,2,3,4])\n",
        "print(a)"
      ],
      "execution_count": null,
      "outputs": [
        {
          "output_type": "stream",
          "text": [
            "[1 2 3 4]\n"
          ],
          "name": "stdout"
        }
      ]
    },
    {
      "cell_type": "code",
      "metadata": {
        "id": "uGWoBq0lvjfi",
        "colab_type": "code",
        "colab": {
          "base_uri": "https://localhost:8080/",
          "height": 87
        },
        "outputId": "570f4971-a424-4233-ca8b-c461f34aac5b"
      },
      "source": [
        "import time\n",
        "\n",
        "#Defining two milion dimensional arrays with random values\n",
        "a=np.random.rand(1000000) #create an array of given shape with values in [0,1)\n",
        "b=np.random.rand(1000000)\n",
        "\n",
        "tic=time.time() #Measure the current time\n",
        "c=np.dot(a,b)   #Finding dot product of the two arrays \n",
        "toc=time.time()\n",
        "\n",
        "print(c)\n",
        "print(\"Vectorized version: Time required = \"+str(1000*(toc-tic))+\"ms\")\n",
        "\n",
        "c=0\n",
        "tic=time.time()\n",
        "for i in range(1000000):\n",
        "  c+=a[i]*b[i]\n",
        "toc=time.time()\n",
        "\n",
        "print(c)\n",
        "print(\"Non Vectorized version: Time required =\"+str(1000*(toc-tic))+\"ms\")"
      ],
      "execution_count": null,
      "outputs": [
        {
          "output_type": "stream",
          "text": [
            "249930.9640721727\n",
            "Vectorized version: Time required = 1.407623291015625ms\n",
            "249930.9640721811\n",
            "Non Vectorized version: Time required =631.8323612213135ms\n"
          ],
          "name": "stdout"
        }
      ]
    }
  ]
}