{
  "nbformat": 4,
  "nbformat_minor": 0,
  "metadata": {
    "colab": {
      "name": "Rank 1 arrays.ipynb",
      "provenance": [],
      "authorship_tag": "ABX9TyNploG8JlrFsV4poJ6WjSWk",
      "include_colab_link": true
    },
    "kernelspec": {
      "name": "python3",
      "display_name": "Python 3"
    }
  },
  "cells": [
    {
      "cell_type": "markdown",
      "metadata": {
        "id": "view-in-github",
        "colab_type": "text"
      },
      "source": [
        "<a href=\"https://colab.research.google.com/github/Akshaya-Rajesh/deeplearning.ai/blob/master/Rank_1_arrays.ipynb\" target=\"_parent\"><img src=\"https://colab.research.google.com/assets/colab-badge.svg\" alt=\"Open In Colab\"/></a>"
      ]
    },
    {
      "cell_type": "markdown",
      "metadata": {
        "id": "hm6EdVbeHJrB",
        "colab_type": "text"
      },
      "source": [
        "# Rank 1 Arrays\n",
        "\n",
        "**Arrays of the shape (n,) are called rank 1 arrays.** \n",
        "\n",
        "Any given array object has a rank, which is the number of \"dimensions\" or \"axes\" it has.\n",
        "For example, a point in 3D space [1, 2, 1] is an array of rank 1 - it has one dimension. That dimension has a length of 3.\n"
      ]
    },
    {
      "cell_type": "code",
      "metadata": {
        "id": "SVJkzZuyAokE",
        "colab_type": "code",
        "colab": {
          "base_uri": "https://localhost:8080/",
          "height": 34
        },
        "outputId": "508f13f5-c546-4888-bdec-555b9c5e9946"
      },
      "source": [
        "import numpy as np\n",
        "\n",
        "a = np.random.randn(5)  # 5 random gaussian variables stored in array a\n",
        "print(a)"
      ],
      "execution_count": 1,
      "outputs": [
        {
          "output_type": "stream",
          "text": [
            "[ 1.06667886 -0.38917586 -0.17011221  2.31052626 -0.80360739]\n"
          ],
          "name": "stdout"
        }
      ]
    },
    {
      "cell_type": "code",
      "metadata": {
        "id": "mrNn22o8CH-K",
        "colab_type": "code",
        "colab": {
          "base_uri": "https://localhost:8080/",
          "height": 34
        },
        "outputId": "0b2e56d9-e0e7-4e21-b76f-d2275f5c7af8"
      },
      "source": [
        "print(a.shape)  # rank 1 array"
      ],
      "execution_count": 2,
      "outputs": [
        {
          "output_type": "stream",
          "text": [
            "(5,)\n"
          ],
          "name": "stdout"
        }
      ]
    },
    {
      "cell_type": "code",
      "metadata": {
        "id": "OXm-OctrCTUf",
        "colab_type": "code",
        "colab": {
          "base_uri": "https://localhost:8080/",
          "height": 123
        },
        "outputId": "b03184bc-0a94-4b7a-e7d9-5c3192f8c1a1"
      },
      "source": [
        "# wont work as expected beacause it is a rank 1 array\n",
        "# Transpose will looks like the same\n",
        "print(a.T)\n",
        "\n",
        "print(np.dot(a,a.T))"
      ],
      "execution_count": 14,
      "outputs": [
        {
          "output_type": "stream",
          "text": [
            "[[ 0.45269717 -1.6636304  -0.07486187  0.1835472  -1.2602481 ]]\n",
            "[[ 0.20493473 -0.75312078 -0.03388976  0.0830913  -0.57051075]\n",
            " [-0.75312078  2.76766612  0.12454249 -0.3053547   2.09658706]\n",
            " [-0.03388976  0.12454249  0.0056043  -0.01374069  0.09434454]\n",
            " [ 0.0830913  -0.3053547  -0.01374069  0.03368957 -0.23131501]\n",
            " [-0.57051075  2.09658706  0.09434454 -0.23131501  1.58822528]]\n"
          ],
          "name": "stdout"
        }
      ]
    },
    {
      "cell_type": "code",
      "metadata": {
        "id": "0isvMcubC8mo",
        "colab_type": "code",
        "colab": {
          "base_uri": "https://localhost:8080/",
          "height": 105
        },
        "outputId": "271f5ed3-80e2-44c4-a1b8-d648168a9f96"
      },
      "source": [
        "# use this convention instead\n",
        "a = np.random.randn(5,1)\n",
        "print(a)"
      ],
      "execution_count": 7,
      "outputs": [
        {
          "output_type": "stream",
          "text": [
            "[[ 0.45269717]\n",
            " [-1.6636304 ]\n",
            " [-0.07486187]\n",
            " [ 0.1835472 ]\n",
            " [-1.2602481 ]]\n"
          ],
          "name": "stdout"
        }
      ]
    },
    {
      "cell_type": "code",
      "metadata": {
        "id": "i-6LFHidDZTs",
        "colab_type": "code",
        "colab": {
          "base_uri": "https://localhost:8080/",
          "height": 158
        },
        "outputId": "13e68647-1d72-476c-f0d2-da4e5d46e40b"
      },
      "source": [
        "print(a.T)\n",
        "print(\"\\n\")\n",
        "print(np.dot(a,a.T))"
      ],
      "execution_count": 13,
      "outputs": [
        {
          "output_type": "stream",
          "text": [
            "[[ 0.45269717 -1.6636304  -0.07486187  0.1835472  -1.2602481 ]]\n",
            "\n",
            "\n",
            "[[ 0.20493473 -0.75312078 -0.03388976  0.0830913  -0.57051075]\n",
            " [-0.75312078  2.76766612  0.12454249 -0.3053547   2.09658706]\n",
            " [-0.03388976  0.12454249  0.0056043  -0.01374069  0.09434454]\n",
            " [ 0.0830913  -0.3053547  -0.01374069  0.03368957 -0.23131501]\n",
            " [-0.57051075  2.09658706  0.09434454 -0.23131501  1.58822528]]\n"
          ],
          "name": "stdout"
        }
      ]
    },
    {
      "cell_type": "markdown",
      "metadata": {
        "id": "tyvg84TKGZQz",
        "colab_type": "text"
      },
      "source": [
        "**Or Use the following conventions.**\n",
        "\n",
        "*Reshape the array*: a = a.reshape(5,1)\n",
        "\n",
        "*Use assertion* : assert(a.shape == (5,1))"
      ]
    }
  ]
}