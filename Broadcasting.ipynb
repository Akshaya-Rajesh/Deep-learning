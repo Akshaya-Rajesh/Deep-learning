{
  "nbformat": 4,
  "nbformat_minor": 0,
  "metadata": {
    "colab": {
      "name": "Broadcasting.ipynb",
      "provenance": [],
      "authorship_tag": "ABX9TyOOo2JHKMBV6GBBsB3GsZD4",
      "include_colab_link": true
    },
    "kernelspec": {
      "name": "python3",
      "display_name": "Python 3"
    }
  },
  "cells": [
    {
      "cell_type": "markdown",
      "metadata": {
        "id": "view-in-github",
        "colab_type": "text"
      },
      "source": [
        "<a href=\"https://colab.research.google.com/github/Akshaya-Rajesh/deeplearning.ai/blob/master/Broadcasting.ipynb\" target=\"_parent\"><img src=\"https://colab.research.google.com/assets/colab-badge.svg\" alt=\"Open In Colab\"/></a>"
      ]
    },
    {
      "cell_type": "markdown",
      "metadata": {
        "id": "hNoXy5zVxph4",
        "colab_type": "text"
      },
      "source": [
        "\n",
        "#                  **Broadcasting in Python** \n",
        "\n",
        "\n",
        "The term broadcasting describes how numpy treats arrays with different shapes during arithmetic operations. Subject to certain constraints, the smaller array is “broadcast” across the larger array so that they have compatible shapes. \n",
        "\n",
        "Broadcasting provides a means of vectorizing array operations so that looping occurs in C instead of Python. It does this without making needless copies of data and usually leads to efficient algorithm implementations. \n",
        "\n",
        "There are, however, cases where broadcasting is a bad idea because it leads to inefficient use of memory that slows computation."
      ]
    },
    {
      "cell_type": "markdown",
      "metadata": {
        "id": "i2Iq_z0McE2M",
        "colab_type": "text"
      },
      "source": [
        "**Calculate the total % of calories from carbohydrate, protein and fat for each food items.**\n",
        "            \n",
        "Nutrients (Apples, Beef, Eggs, Potatoes)\n",
        "\n",
        "Carbohydrate  (56.0, 0.0, 4.4, 68.0)\n",
        "\n",
        "Protein  (1.2, 104.0, 52.0, 8.0)\n",
        "\n",
        "Fat  (1.8, 135.0, 99.0, 0.9)\n"
      ]
    },
    {
      "cell_type": "code",
      "metadata": {
        "id": "AE6ci04eZhve",
        "colab_type": "code",
        "colab": {
          "base_uri": "https://localhost:8080/",
          "height": 87
        },
        "outputId": "d436c00f-a31d-4f83-b2ad-273d08604ad9"
      },
      "source": [
        "import numpy as np\n",
        "\n",
        "#define a matrix with values \n",
        "A = np.array([[56.0,0.0,4.4,68.0],\n",
        "             [1.2,104.0,52.0,8.0],\n",
        "             [1.8,135.0,99.0,0.9]])\n",
        "\n",
        "print(A)\n",
        "print(A.shape)"
      ],
      "execution_count": 7,
      "outputs": [
        {
          "output_type": "stream",
          "text": [
            "[[ 56.    0.    4.4  68. ]\n",
            " [  1.2 104.   52.    8. ]\n",
            " [  1.8 135.   99.    0.9]]\n",
            "(3, 4)\n"
          ],
          "name": "stdout"
        }
      ]
    },
    {
      "cell_type": "code",
      "metadata": {
        "id": "NTEq9pS7bX_Y",
        "colab_type": "code",
        "colab": {
          "base_uri": "https://localhost:8080/",
          "height": 52
        },
        "outputId": "ca4dc27b-7fde-4f80-beec-1abea349bbda"
      },
      "source": [
        "# find total calories for each food items.\n",
        "cal = A.sum(axis=0)   # axis=0 means vertical sum\n",
        "\n",
        "print(cal)\n",
        "print(cal.shape)"
      ],
      "execution_count": 6,
      "outputs": [
        {
          "output_type": "stream",
          "text": [
            "[ 59.  239.  155.4  76.9]\n",
            "(4,)\n"
          ],
          "name": "stdout"
        }
      ]
    },
    {
      "cell_type": "code",
      "metadata": {
        "id": "U8lkVUbMqQUR",
        "colab_type": "code",
        "colab": {
          "base_uri": "https://localhost:8080/",
          "height": 70
        },
        "outputId": "3915e863-3ee9-4dba-ba80-3ca1fae3979a"
      },
      "source": [
        "# find percntage of calories\n",
        "percentage = 100*A/cal.reshape(1,4)     # this is python broadcasting. where a matrix of shape (3,4) is divided by a matrix of shape (1,4)\n",
        "\n",
        "print(percentage)"
      ],
      "execution_count": 5,
      "outputs": [
        {
          "output_type": "stream",
          "text": [
            "[[94.91525424  0.          2.83140283 88.42652796]\n",
            " [ 2.03389831 43.51464435 33.46203346 10.40312094]\n",
            " [ 3.05084746 56.48535565 63.70656371  1.17035111]]\n"
          ],
          "name": "stdout"
        }
      ]
    },
    {
      "cell_type": "markdown",
      "metadata": {
        "id": "UAUyHbJuv1Qr",
        "colab_type": "text"
      },
      "source": [
        "More Examples"
      ]
    },
    {
      "cell_type": "code",
      "metadata": {
        "id": "6xI4jTC-v3ag",
        "colab_type": "code",
        "colab": {
          "base_uri": "https://localhost:8080/",
          "height": 70
        },
        "outputId": "2961ebaf-e41d-4ddf-ddc0-e00f257dcafa"
      },
      "source": [
        "A = np.array([[1,2,3]])\n",
        "print(A)\n",
        "print(\"Shape of A is \"+ str(A.shape))\n",
        "\n",
        "#add 100 to each element\n",
        "A+=100\n",
        "print(A)"
      ],
      "execution_count": 13,
      "outputs": [
        {
          "output_type": "stream",
          "text": [
            "[[1 2 3]]\n",
            "Shape of A is (1, 3)\n",
            "[[101 102 103]]\n"
          ],
          "name": "stdout"
        }
      ]
    },
    {
      "cell_type": "code",
      "metadata": {
        "id": "Psyk-XUhwuDJ",
        "colab_type": "code",
        "colab": {
          "base_uri": "https://localhost:8080/",
          "height": 141
        },
        "outputId": "ce235346-aad7-44b1-d96e-9179e7b5fe4e"
      },
      "source": [
        "A = np.array([[1],[2],[3]])\n",
        "print(A)\n",
        "print(\"Shape of A is \"+ str(A.shape))\n",
        "\n",
        "#add 100 to each element\n",
        "A+=100\n",
        "print(A)"
      ],
      "execution_count": 14,
      "outputs": [
        {
          "output_type": "stream",
          "text": [
            "[[1]\n",
            " [2]\n",
            " [3]]\n",
            "Shape of A is (3, 1)\n",
            "[[101]\n",
            " [102]\n",
            " [103]]\n"
          ],
          "name": "stdout"
        }
      ]
    },
    {
      "cell_type": "code",
      "metadata": {
        "id": "crJzfN6tw6ru",
        "colab_type": "code",
        "colab": {
          "base_uri": "https://localhost:8080/",
          "height": 105
        },
        "outputId": "2433e565-f0c7-46fe-f780-5c6598c17d54"
      },
      "source": [
        "A = np.array([[1,2,3],[4,5,6]])\n",
        "print(A)\n",
        "print(\"Shape of A is \"+ str(A.shape))\n",
        "\n",
        "#add 100 to each element\n",
        "A+=100\n",
        "print(A)"
      ],
      "execution_count": 15,
      "outputs": [
        {
          "output_type": "stream",
          "text": [
            "[[1 2 3]\n",
            " [4 5 6]]\n",
            "Shape of A is (2, 3)\n",
            "[[101 102 103]\n",
            " [104 105 106]]\n"
          ],
          "name": "stdout"
        }
      ]
    },
    {
      "cell_type": "code",
      "metadata": {
        "id": "4Yi_LKk4xKe9",
        "colab_type": "code",
        "colab": {
          "base_uri": "https://localhost:8080/",
          "height": 105
        },
        "outputId": "4f293d01-a937-4f67-e09d-1e472dc40011"
      },
      "source": [
        "A = np.array([[1,2,3],[4,5,6]])\n",
        "print(A)\n",
        "print(\"Shape of A is \"+ str(A.shape))\n",
        "\n",
        "A+=[100,200,300]\n",
        "print(A)"
      ],
      "execution_count": 16,
      "outputs": [
        {
          "output_type": "stream",
          "text": [
            "[[1 2 3]\n",
            " [4 5 6]]\n",
            "Shape of A is (2, 3)\n",
            "[[101 202 303]\n",
            " [104 205 306]]\n"
          ],
          "name": "stdout"
        }
      ]
    },
    {
      "cell_type": "code",
      "metadata": {
        "id": "1CGhY9XuxV-O",
        "colab_type": "code",
        "colab": {
          "base_uri": "https://localhost:8080/",
          "height": 105
        },
        "outputId": "eb34bea0-49fd-4d38-d1f5-056421fca040"
      },
      "source": [
        "A = np.array([[1,2,3],[4,5,6]])\n",
        "print(A)\n",
        "print(\"Shape of A is \"+ str(A.shape))\n",
        "\n",
        "A+=[[100],[200]]\n",
        "print(A)"
      ],
      "execution_count": 18,
      "outputs": [
        {
          "output_type": "stream",
          "text": [
            "[[1 2 3]\n",
            " [4 5 6]]\n",
            "Shape of A is (2, 3)\n",
            "[[101 102 103]\n",
            " [204 205 206]]\n"
          ],
          "name": "stdout"
        }
      ]
    }
  ]
}